{
 "cells": [
  {
   "cell_type": "markdown",
   "metadata": {},
   "source": [
    "### ROT: Detecting and Forecasting the Occlusion Events between the Sun and Clouds in Realtime"
   ]
  },
  {
   "cell_type": "code",
   "execution_count": null,
   "metadata": {},
   "outputs": [],
   "source": [
    "import os\n",
    "import queue\n",
    "import threading"
   ]
  },
  {
   "cell_type": "code",
   "execution_count": null,
   "metadata": {},
   "outputs": [],
   "source": [
    "%matplotlib inline\n",
    "\n",
    "import sys\n",
    "import pandas as pd\n",
    "import numpy as np\n",
    "import math\n",
    "\n",
    "import cv2\n",
    "import glob\n",
    "\n",
    "import io\n",
    "from PIL import Image\n",
    "\n",
    "import matplotlib.pyplot as plt"
   ]
  },
  {
   "cell_type": "code",
   "execution_count": null,
   "metadata": {},
   "outputs": [],
   "source": [
    "import tensorflow as tf\n",
    "print(tf.__version__)"
   ]
  },
  {
   "cell_type": "code",
   "execution_count": null,
   "metadata": {},
   "outputs": [],
   "source": [
    "from rot_helper.thread_functions import sky_images_generator\n",
    "from rot_helper.ssd_detection import detection_data, post_process_detection_data\n",
    "\n",
    "from rot_helper.lstm_forecast import forecast_inferrence, return_sequence_ssd_detection_data\n",
    "from rot_helper.lstm_forecast import post_process_ssd_detection_data_for_forecasting, local_padding_series\n",
    "from rot_helper.lstm_forecast import n_windowed_forecast_inferrence, forecast_report_on_occlusions_predictions"
   ]
  },
  {
   "cell_type": "code",
   "execution_count": null,
   "metadata": {},
   "outputs": [],
   "source": [
    "from sklearn.metrics import mean_squared_error"
   ]
  },
  {
   "cell_type": "markdown",
   "metadata": {},
   "source": [
    "#### Sky Camera Files for Images Captured on the <2017_07_15> Day."
   ]
  },
  {
   "cell_type": "code",
   "execution_count": null,
   "metadata": {},
   "outputs": [],
   "source": [
    "sky_camera_images_dir = '../experiments/experiment1/2017_07_15'\n",
    "sky_camera_images_files = os.listdir(sky_camera_images_dir)\n",
    "sky_camera_images_files.sort() # Sorted\n",
    "sky_camera_images_files[:20]"
   ]
  },
  {
   "cell_type": "markdown",
   "metadata": {},
   "source": [
    "#### Trained ML models hyper parameters"
   ]
  },
  {
   "cell_type": "code",
   "execution_count": null,
   "metadata": {},
   "outputs": [],
   "source": [
    "seq_num             = 50\n",
    "num_bboxes          = 5\n",
    "max_bboxes_vec_size = 6 * num_bboxes # About 6 points data for each of the 5 bboxes per an image."
   ]
  },
  {
   "cell_type": "code",
   "execution_count": null,
   "metadata": {},
   "outputs": [],
   "source": [
    "forecasting_model_name = '../exported_ml_models/lstm_forecasting_model/toesc_forecasting_keras_lambda_model.h5' # A simple forecasting model to predict the next bboxes"
   ]
  },
  {
   "cell_type": "markdown",
   "metadata": {},
   "source": [
    "#### Data Structures to hold intermediary data "
   ]
  },
  {
   "cell_type": "code",
   "execution_count": null,
   "metadata": {},
   "outputs": [],
   "source": [
    "# To capture inbound images from the ground sky camera in realtime (i.e., a new image per second).\n",
    "queue_of_inbound_sky_images = queue.Queue()"
   ]
  },
  {
   "cell_type": "code",
   "execution_count": null,
   "metadata": {},
   "outputs": [],
   "source": [
    "# To capture a sequence of images of length = seq_num (i.e., 50) to be used to forecast the next image detection data.\n",
    "queue_of_images_sequence_for_forecast_task = queue.Queue(maxsize=seq_num)  "
   ]
  },
  {
   "cell_type": "code",
   "execution_count": null,
   "metadata": {},
   "outputs": [],
   "source": [
    "# To save in memory the current ssd detection data\n",
    "ssd_detection_data_dict = {}"
   ]
  },
  {
   "cell_type": "code",
   "execution_count": null,
   "metadata": {},
   "outputs": [],
   "source": [
    "# Placeholder to capture the interm mse between the forecasted bbox data (LSTM) vs detected bbox data (SSD)\n",
    "mse_1_forecast_eval   = []\n",
    "mse_5_forecast_eval   = []\n",
    "mse_10_forecast_eval  = []\n",
    "mse_25_forecast_eval  = []\n",
    "mse_50_forecast_eval  = []\n",
    "mse_75_forecast_eval  = []\n",
    "mse_100_forecast_eval = [] \n",
    "\n",
    "# Or use a dictionary object\n",
    "# i.e., Keys = [1, 5, 10, 25, 75, 100], Values = [Arrays of MSEs for each new sky image and its forecasts]\n",
    "mse_forecasts_eval = {} \n",
    "\n",
    "forecasting_counter = 0"
   ]
  },
  {
   "cell_type": "markdown",
   "metadata": {},
   "source": [
    "#### Spawn the producer thread"
   ]
  },
  {
   "cell_type": "code",
   "execution_count": null,
   "metadata": {},
   "outputs": [],
   "source": [
    "queue_of_inbound_sky_images.qsize() # Test<1>"
   ]
  },
  {
   "cell_type": "code",
   "execution_count": null,
   "metadata": {},
   "outputs": [],
   "source": [
    "t = threading.Thread(target=sky_images_generator, args=(sky_camera_images_files, queue_of_inbound_sky_images,))\n",
    "t.start()"
   ]
  },
  {
   "cell_type": "code",
   "execution_count": null,
   "metadata": {},
   "outputs": [],
   "source": [
    "queue_of_inbound_sky_images.qsize() # Test<2,3, ..., k>"
   ]
  },
  {
   "cell_type": "markdown",
   "metadata": {},
   "source": [
    "#### Get an image file from the queue in a FIFO format"
   ]
  },
  {
   "cell_type": "code",
   "execution_count": null,
   "metadata": {},
   "outputs": [],
   "source": [
    "sample_image_filename = queue_of_inbound_sky_images.get()"
   ]
  },
  {
   "cell_type": "code",
   "execution_count": null,
   "metadata": {},
   "outputs": [],
   "source": [
    "sample_image_filename"
   ]
  },
  {
   "cell_type": "markdown",
   "metadata": {},
   "source": [
    "### Sample Image Detection Data"
   ]
  },
  {
   "cell_type": "markdown",
   "metadata": {},
   "source": [
    "#### Env setup"
   ]
  },
  {
   "cell_type": "code",
   "execution_count": null,
   "metadata": {},
   "outputs": [],
   "source": [
    "# This is needed to display the images.\n",
    "%matplotlib inline"
   ]
  },
  {
   "cell_type": "code",
   "execution_count": null,
   "metadata": {},
   "outputs": [],
   "source": [
    "sample_image_file = os.path.join(sky_camera_images_dir, sample_image_filename)"
   ]
  },
  {
   "cell_type": "code",
   "execution_count": null,
   "metadata": {},
   "outputs": [],
   "source": [
    "results_detection_data = detection_data(sample_image_file)"
   ]
  },
  {
   "cell_type": "code",
   "execution_count": null,
   "metadata": {},
   "outputs": [],
   "source": [
    "results_detection_data"
   ]
  },
  {
   "cell_type": "code",
   "execution_count": null,
   "metadata": {},
   "outputs": [],
   "source": [
    "ssd_detection_data = post_process_detection_data(results_detection_data)"
   ]
  },
  {
   "cell_type": "code",
   "execution_count": null,
   "metadata": {},
   "outputs": [],
   "source": [
    "ssd_detection_data_dict[list(ssd_detection_data.keys())[0]] = list(ssd_detection_data.values())[0]"
   ]
  },
  {
   "cell_type": "code",
   "execution_count": null,
   "metadata": {},
   "outputs": [],
   "source": [
    "ssd_detection_data_dict"
   ]
  },
  {
   "cell_type": "code",
   "execution_count": null,
   "metadata": {},
   "outputs": [],
   "source": [
    "def mse_evaluation_of_1_windowed_forecasted(candidate_key, next_frame_forecast):\n",
    "    \"\"\" This assume that we access to n+1 future images access to validate the \n",
    "        LSTM forecasts of the next sky image ssd detecton data. \"\"\"\n",
    "    \n",
    "    # Given a candidate next image (candidate_key), compute its SSD detection bbox data    \n",
    "    print(\"\\n:: Candidate Key-1: \", candidate_key)\n",
    "    \n",
    "    # Run SSD Detection\n",
    "    results_detection_data = detection_data(candidate_key)\n",
    "    ssd_detection_data = post_process_detection_data(results_detection_data)\n",
    "    \n",
    "    candidate_ssd_data = list(ssd_detection_data.values())[0]    \n",
    "    print(\"\\n:: candidate_ssd_data: \", candidate_ssd_data)\n",
    "    \n",
    "    padded_candidate_ssd_data = post_process_ssd_detection_data_for_forecasting(candidate_ssd_data, max_bboxes_vec_size)\n",
    "    print(\"\\n:: padded_candidate_ssd_data: \", padded_candidate_ssd_data)\n",
    "    \n",
    "    print(\"\\n:: next_frame_forecast_data: \", next_frame_forecast)\n",
    "    \n",
    "    # Compute its mse aggr. value.\n",
    "    mse_1_eval = mean_squared_error(padded_candidate_ssd_data, next_frame_forecast)\n",
    "    \n",
    "    return mse_1_eval"
   ]
  },
  {
   "cell_type": "code",
   "execution_count": null,
   "metadata": {},
   "outputs": [],
   "source": [
    "def mse_evaluation_of_n_windowed_forecasted(candidate_key, next_n_frames_forecasts, forecast_window):\n",
    "    \"\"\" This assume that we access to n+1 future images access to validate the \n",
    "        LSTM forecasts of the next n-forecast_window sky images ssd detecton data.\"\"\"\n",
    "    \n",
    "    ssd_detection_data_list = []\n",
    "    candidate_filenames = []\n",
    "    candidate_key_filename = candidate_key.split(\"/\")[-1]\n",
    "    for i in range(len(sky_camera_images_files)):\n",
    "        if sky_camera_images_files[i] == candidate_key_filename:\n",
    "            candidate_filenames = sky_camera_images_files[i:i+forecast_window]\n",
    "            break\n",
    "    print(\"\\n:: candidate_filenames-n: \", len(candidate_filenames), \"\\n\", candidate_filenames)\n",
    "    \n",
    "    \n",
    "    for image_filename in candidate_filenames:\n",
    "        \n",
    "        candidate_filepath = os.path.join(sky_camera_images_dir, image_filename)\n",
    "\n",
    "        # Run SSD Detection\n",
    "        results_detection_data = detection_data(candidate_filepath)\n",
    "        ssd_detection_data = post_process_detection_data(results_detection_data)\n",
    "        candidate_ssd_data = list(ssd_detection_data.values())[0]  \n",
    "        padded_candidate_ssd_data = post_process_ssd_detection_data_for_forecasting(candidate_ssd_data, max_bboxes_vec_size)\n",
    "        \n",
    "        #print(\"\\n:: padded_candidate_ssd_data: \", padded_candidate_ssd_data)\n",
    "        \n",
    "        ssd_detection_data_list.append(padded_candidate_ssd_data)\n",
    "    \n",
    "    ssd_detection_data_list = np.asarray(ssd_detection_data_list)\n",
    "    \n",
    "    print(\"\\n\\n:: ssd_detection_data_list: \", len(ssd_detection_data_list), ssd_detection_data_list, \"\\n\")\n",
    "    print(\"\\n\\n:: next_n_frames_forecasts: \", len(next_n_frames_forecasts), next_n_frames_forecasts, \"\\n\")\n",
    "    \n",
    "    #print(\"\\n\\n:: next_n_frames_forecasts[0]: \", len(next_n_frames_forecasts[0]), next_n_frames_forecasts[0], \"\\n\")\n",
    "    #print(len(ssd_detection_data_list), len(next_n_frames_forecasts))\n",
    "    print(\"\\nCheck Mate: \", ssd_detection_data_list[0], next_n_frames_forecasts[0], \"\\n\")\n",
    "\n",
    "    # Compute its mse aggr. value.\n",
    "    mse_n_eval_total = 0\n",
    "    \n",
    "    for i in range(len(ssd_detection_data_list)):\n",
    "        mse_n_eval_total += mean_squared_error(ssd_detection_data_list[0], next_n_frames_forecasts[0])\n",
    "    \n",
    "    print(\"\\nmse_n_eval_total: \", mse_n_eval_total, \"\\n\")\n",
    "    \n",
    "    return float(mse_n_eval_total) / len(ssd_detection_data_list)\n"
   ]
  },
  {
   "cell_type": "markdown",
   "metadata": {},
   "source": [
    "### Simulate inbound sky images\n",
    "\n",
    "- Run SSD detection\n",
    "- Create sequence of sky images to run forecast/predictions of future frame detection data and visualize them\n",
    "- Run 24/7 or until stopped"
   ]
  },
  {
   "cell_type": "code",
   "execution_count": null,
   "metadata": {},
   "outputs": [],
   "source": [
    "while(1):\n",
    "    get_the_next_sky_image_filename = queue_of_inbound_sky_images.get() # FIFO mode\n",
    "    print(\"\\n:: Current sky image name: \", get_the_next_sky_image_filename)\n",
    "    \n",
    "    current_sky_image_filepath = os.path.join(sky_camera_images_dir, get_the_next_sky_image_filename)\n",
    "    \n",
    "    # Run SSD Detection\n",
    "    results_detection_data = detection_data(current_sky_image_filepath)\n",
    "    ssd_detection_data = post_process_detection_data(results_detection_data)\n",
    "    \n",
    "    # Append it into the dict of ssd detection data\n",
    "    ssd_detection_data_dict[list(ssd_detection_data.keys())[0]] = list(ssd_detection_data.values())[0]\n",
    "    candidate_key = list(ssd_detection_data.keys())[0]\n",
    "    \n",
    "    #(0)\n",
    "    if queue_of_images_sequence_for_forecast_task.qsize() < seq_num:\n",
    "        queue_of_images_sequence_for_forecast_task.put(candidate_key)\n",
    "    \n",
    "    #(1) If the forecast queue reaches seqNum, run the forecast model for the next 5, 10, 20, 40, 60, 80, 100 frames\n",
    "    # And plot the frequency of predicted number of occlusion occurences in those predicted n-frames.\n",
    "    if queue_of_images_sequence_for_forecast_task.qsize() == seq_num:\n",
    "        print(\"\\n\\nTime to begin the forecast ...\")\n",
    "        \n",
    "        # Pop the oldest entry from the queue and use it to extract seq_num detection data from the \n",
    "        # ssd_detection_data_dict\n",
    "        popped_sky_image_filename = queue_of_images_sequence_for_forecast_task.get()\n",
    "        print(\"Popped: \", popped_sky_image_filename)\n",
    "        \n",
    "        # Create the sequence of detection data to be used for the prediction/forecast task\n",
    "        extracted_seq_num_detection_data = return_sequence_ssd_detection_data(popped_sky_image_filename, ssd_detection_data_dict, seq_num, max_bboxes_vec_size)\n",
    "        #print(\"\\nExtracted: \", extracted_seq_num_detection_data)\n",
    "        print(\"\\nExtracted data hidden.\\n\")\n",
    "        \n",
    "        # Next 1st Frame Forecast\n",
    "        next_frame_forecast = forecast_inferrence(extracted_seq_num_detection_data, forecasting_model_name)\n",
    "        # Later compare it with the candidtate_key (visually)\n",
    "        print(\":: Next 1st Frame Forecast: \", next_frame_forecast, \"\\n\")\n",
    "        \n",
    "        num_occlusions_bool = forecast_report_on_occlusions_predictions(next_frame_forecast)\n",
    "        print(\"\\n:: Next 1st Frame Forecast -- Summary Report:\\n\\t >> In regards to the presence of an occlusion event in the next Frame, the forecast says: \", num_occlusions_bool, \"\\n\")\n",
    "    \n",
    "        mse_1_eval = mse_evaluation_of_1_windowed_forecasted(candidate_key, next_frame_forecast)\n",
    "        print(\"\\n: mse_1_eval: \", mse_1_eval, \"\\n\")\n",
    "        \n",
    "        # Saving each forecasted vs ssd detection mse for future reference\n",
    "        mse_1_forecast_eval.append(mse_1_eval)\n",
    "        \n",
    "        ### Generic Forecast model for n-horizon window: Next [5, 10, 25, 50, 75, 100] Frames Forecast\n",
    "        forecast_window = [5, 10, 25, 50, 75, 100]\n",
    "        \n",
    "        for i in forecast_window:\n",
    "            print(\"\\n\\n:: Auto forecast the next <\", i, \"> frames.\\n\")\n",
    "            next_n_frames_forecasts = n_windowed_forecast_inferrence(i, extracted_seq_num_detection_data, forecasting_model_name)\n",
    "            \n",
    "            # Forecast Report\n",
    "            print(\"\\n:: Summary of the \", i, \" forecasts:\\n\", next_n_frames_forecasts, \"\\n\")\n",
    "            occlusion_bool_list = forecast_report_on_occlusions_predictions(next_n_frames_forecasts)\n",
    "            print(\"\\n:: Next\", i, \"Frames Forecast -- Summary Report:\\n\\t >> In regards to the presence of an occlusion event in the next Frames, the forecast says: \", occlusion_bool_list, \"\\n\")\n",
    "    \n",
    "            mse_n_eval = mse_evaluation_of_n_windowed_forecasted(candidate_key, next_n_frames_forecasts, i)\n",
    "            print(\"\\n: mse_\", i ,\"_eval: \", mse_n_eval, \"\\n\")\n",
    "\n",
    "            # Saving each forecasted vs ssd detection mse for future reference\n",
    "            if i == 5:\n",
    "                mse_5_forecast_eval.append(mse_n_eval)\n",
    "            if i == 10:\n",
    "                mse_10_forecast_eval.append(mse_n_eval)\n",
    "            if i == 25:\n",
    "                mse_25_forecast_eval.append(mse_n_eval)\n",
    "            if i == 50:\n",
    "                mse_50_forecast_eval.append(mse_n_eval)\n",
    "            if i == 75:\n",
    "                mse_75_forecast_eval.append(mse_n_eval)\n",
    "            if i == 100:\n",
    "                mse_100_forecast_eval.append(mse_n_eval)    \n",
    "    \n",
    "            #break # Comment it out to run all the forecast_window targets.\n",
    "        \n",
    "        #(2) Put new entry in the forecast queue (0-1)\n",
    "        queue_of_images_sequence_for_forecast_task.put(candidate_key)\n",
    "        print(\"\\n\\n:: Newly Put: \\n\\t\", candidate_key)\n",
    "        \n",
    "        forecasting_counter += 1 # Pre-Increment\n",
    "        \n",
    "        if forecasting_counter %100:\n",
    "            print(\"\\n\\n\\n:: Current forecasting_counter: \", forecasting_counter, \"\\n\\n\")\n",
    "            \n",
    "        if forecasting_counter > 10:\n",
    "            print(\"\\n:: mse_1_forecast_eval: \", mse_1_forecast_eval, \"\\n\\n\")\n",
    "            print(\"\\n:: mse_5_forecast_eval: \", mse_5_forecast_eval, \"\\n\\n\") \n",
    "            print(\"\\n:: mse_10_forecast_eval: \", mse_10_forecast_eval, \"\\n\\n\")\n",
    "            print(\"\\n:: mse_25_forecast_eval: \", mse_25_forecast_eval, \"\\n\\n\")\n",
    "            print(\"\\n:: mse_50_forecast_eval: \", mse_50_forecast_eval, \"\\n\\n\")\n",
    "            print(\"\\n:: mse_75_forecast_eval: \", mse_75_forecast_eval, \"\\n\\n\")\n",
    "            print(\"\\n:: mse_100_forecast_eval: \", mse_100_forecast_eval, \"\\n\\n\")\n",
    "            \n",
    "            break\n",
    "        \n",
    "        #input(\"Enter to continue...\") # To be commented out soon."
   ]
  },
  {
   "cell_type": "code",
   "execution_count": null,
   "metadata": {},
   "outputs": [],
   "source": [
    "print(\"Summary: \")\n",
    "print(\"1-forecast - MSE(avg): \", sum(mse_1_forecast_eval)/len(mse_1_forecast_eval))\n",
    "print(\"5-forecasts - MSE(avg): \", sum(mse_5_forecast_eval)/len(mse_5_forecast_eval))\n",
    "print(\"10-forecasts - MSE(avg): \", sum(mse_10_forecast_eval)/len(mse_10_forecast_eval))\n",
    "print(\"25-forecasts - MSE(avg): \", sum(mse_25_forecast_eval)/len(mse_25_forecast_eval))\n",
    "print(\"50-forecasts - MSE(avg): \", sum(mse_50_forecast_eval)/len(mse_50_forecast_eval))\n",
    "print(\"75-forecasts - MSE(avg): \", sum(mse_75_forecast_eval)/len(mse_75_forecast_eval))\n",
    "print(\"100-forecasts - MSE(avg): \", sum(mse_100_forecast_eval)/len(mse_100_forecast_eval))"
   ]
  },
  {
   "cell_type": "code",
   "execution_count": null,
   "metadata": {},
   "outputs": [],
   "source": [
    "print(\"Summary: \")\n",
    "print(\"1-forecast - MSE(avg): \", sum(mse_1_forecast_eval), len(mse_1_forecast_eval))\n",
    "print(\"5-forecasts - MSE(avg): \", sum(mse_5_forecast_eval), len(mse_5_forecast_eval))\n",
    "print(\"10-forecasts - MSE(avg): \", sum(mse_10_forecast_eval), len(mse_10_forecast_eval))\n",
    "print(\"25-forecasts - MSE(avg): \", sum(mse_25_forecast_eval), len(mse_25_forecast_eval))\n",
    "print(\"50-forecasts - MSE(avg): \", sum(mse_50_forecast_eval), len(mse_50_forecast_eval))\n",
    "print(\"75-forecasts - MSE(avg): \", sum(mse_75_forecast_eval), len(mse_75_forecast_eval))\n",
    "print(\"100-forecasts - MSE(avg): \", sum(mse_100_forecast_eval), len(mse_100_forecast_eval))"
   ]
  },
  {
   "cell_type": "code",
   "execution_count": null,
   "metadata": {},
   "outputs": [],
   "source": [
    "# Add a profiling module separately to estimate the range of areas of occlusions (LowerBound < X.Y < UpperBound)"
   ]
  },
  {
   "cell_type": "code",
   "execution_count": null,
   "metadata": {},
   "outputs": [],
   "source": [
    "# Note: Uses old Tensorflow (not the 2.0), for local dev, uses conda research_tf venv."
   ]
  }
 ],
 "metadata": {
  "kernelspec": {
   "display_name": "Python 3",
   "language": "python",
   "name": "python3"
  },
  "language_info": {
   "codemirror_mode": {
    "name": "ipython",
    "version": 3
   },
   "file_extension": ".py",
   "mimetype": "text/x-python",
   "name": "python",
   "nbconvert_exporter": "python",
   "pygments_lexer": "ipython3",
   "version": "3.7.5"
  }
 },
 "nbformat": 4,
 "nbformat_minor": 2
}
