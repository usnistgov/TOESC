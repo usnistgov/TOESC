{
 "cells": [
  {
   "cell_type": "markdown",
   "metadata": {},
   "source": [
    "### ROT: Detecting and Forecasting the Occlusion Events between the Sun and Clouds in Realtime"
   ]
  },
  {
   "cell_type": "code",
   "execution_count": null,
   "metadata": {},
   "outputs": [],
   "source": [
    "import os\n",
    "import queue\n",
    "import threading"
   ]
  },
  {
   "cell_type": "code",
   "execution_count": null,
   "metadata": {},
   "outputs": [],
   "source": [
    "%matplotlib inline\n",
    "\n",
    "import sys\n",
    "import pandas as pd\n",
    "import numpy as np\n",
    "import math\n",
    "\n",
    "import cv2\n",
    "import glob\n",
    "\n",
    "import io\n",
    "from PIL import Image\n",
    "\n",
    "import matplotlib.pyplot as plt"
   ]
  },
  {
   "cell_type": "code",
   "execution_count": null,
   "metadata": {},
   "outputs": [],
   "source": [
    "import tensorflow as tf\n",
    "print(tf.__version__)"
   ]
  },
  {
   "cell_type": "code",
   "execution_count": null,
   "metadata": {},
   "outputs": [],
   "source": [
    "from rot_helper.thread_functions import sky_images_generator\n",
    "from rot_helper.ssd_detection import detection_data, post_process_detection_data\n",
    "\n",
    "from rot_helper.lstm_forecast import forecast_inferrence, return_sequence_ssd_detection_data\n",
    "from rot_helper.lstm_forecast import post_process_ssd_detection_data_for_forecasting, local_padding_series"
   ]
  },
  {
   "cell_type": "markdown",
   "metadata": {},
   "source": [
    "#### Sky Camera Files for Images Captured on the <2017_07_15> Day."
   ]
  },
  {
   "cell_type": "code",
   "execution_count": null,
   "metadata": {},
   "outputs": [],
   "source": [
    "sky_camera_images_dir = '../experiments/experiment1/2017_07_15'\n",
    "sky_camera_images_files = os.listdir(sky_camera_images_dir)\n",
    "sky_camera_images_files.sort() # Sorted\n",
    "sky_camera_images_files[:20]"
   ]
  },
  {
   "cell_type": "markdown",
   "metadata": {},
   "source": [
    "#### Trained ML models hyper parameters"
   ]
  },
  {
   "cell_type": "code",
   "execution_count": null,
   "metadata": {},
   "outputs": [],
   "source": [
    "seq_num             = 50\n",
    "num_bboxes          = 5\n",
    "max_bboxes_vec_size = 6 * num_bboxes # About 6 points data for each of the 5 bboxes per an image."
   ]
  },
  {
   "cell_type": "code",
   "execution_count": null,
   "metadata": {},
   "outputs": [],
   "source": [
    "forecasting_model_name = '../exported_ml_models/lstm_forecasting_model/toesc_forecasting_keras_lambda_model.h5' # A simple forecasting model to predict the next bboxes"
   ]
  },
  {
   "cell_type": "markdown",
   "metadata": {},
   "source": [
    "#### Data Structures to hold intermediary data "
   ]
  },
  {
   "cell_type": "code",
   "execution_count": null,
   "metadata": {},
   "outputs": [],
   "source": [
    "# To capture inbound images from the ground sky camera in realtime (i.e., a new image per second).\n",
    "queue_of_inbound_sky_images = queue.Queue()"
   ]
  },
  {
   "cell_type": "code",
   "execution_count": null,
   "metadata": {},
   "outputs": [],
   "source": [
    "# To capture a sequence of images of length = seq_num (i.e., 50) to be used to forecast the next image detection data.\n",
    "queue_of_images_sequence_for_forecast_task = queue.Queue(maxsize=seq_num)  "
   ]
  },
  {
   "cell_type": "code",
   "execution_count": null,
   "metadata": {},
   "outputs": [],
   "source": [
    "# To save in memory the current ssd detection data\n",
    "ssd_detection_data_dict = {}"
   ]
  },
  {
   "cell_type": "markdown",
   "metadata": {},
   "source": [
    "#### Spawn the producer thread"
   ]
  },
  {
   "cell_type": "code",
   "execution_count": null,
   "metadata": {},
   "outputs": [],
   "source": [
    "queue_of_inbound_sky_images.qsize() # Test1"
   ]
  },
  {
   "cell_type": "code",
   "execution_count": null,
   "metadata": {},
   "outputs": [],
   "source": [
    "t = threading.Thread(target=sky_images_generator, args=(sky_camera_images_files, queue_of_inbound_sky_images,))\n",
    "t.start()"
   ]
  },
  {
   "cell_type": "code",
   "execution_count": null,
   "metadata": {},
   "outputs": [],
   "source": [
    "queue_of_inbound_sky_images.qsize() # Test2"
   ]
  },
  {
   "cell_type": "markdown",
   "metadata": {},
   "source": [
    "#### Get an image file from the queue in a FIFO format"
   ]
  },
  {
   "cell_type": "code",
   "execution_count": null,
   "metadata": {},
   "outputs": [],
   "source": [
    "sample_image_filename = queue_of_inbound_sky_images.get()"
   ]
  },
  {
   "cell_type": "code",
   "execution_count": null,
   "metadata": {},
   "outputs": [],
   "source": [
    "sample_image_filename"
   ]
  },
  {
   "cell_type": "markdown",
   "metadata": {},
   "source": [
    "### Sample Image Detection Data"
   ]
  },
  {
   "cell_type": "markdown",
   "metadata": {},
   "source": [
    "#### Env setup"
   ]
  },
  {
   "cell_type": "code",
   "execution_count": null,
   "metadata": {},
   "outputs": [],
   "source": [
    "# This is needed to display the images.\n",
    "%matplotlib inline"
   ]
  },
  {
   "cell_type": "code",
   "execution_count": null,
   "metadata": {},
   "outputs": [],
   "source": [
    "sample_image_file = os.path.join(sky_camera_images_dir, sample_image_filename)"
   ]
  },
  {
   "cell_type": "code",
   "execution_count": null,
   "metadata": {},
   "outputs": [],
   "source": [
    "results_detection_data = detection_data(sample_image_file)"
   ]
  },
  {
   "cell_type": "code",
   "execution_count": null,
   "metadata": {},
   "outputs": [],
   "source": [
    "results_detection_data"
   ]
  },
  {
   "cell_type": "code",
   "execution_count": null,
   "metadata": {},
   "outputs": [],
   "source": [
    "ssd_detection_data = post_process_detection_data(results_detection_data)"
   ]
  },
  {
   "cell_type": "code",
   "execution_count": null,
   "metadata": {},
   "outputs": [],
   "source": [
    "ssd_detection_data_dict[list(ssd_detection_data.keys())[0]] = list(ssd_detection_data.values())[0]"
   ]
  },
  {
   "cell_type": "code",
   "execution_count": null,
   "metadata": {},
   "outputs": [],
   "source": [
    "ssd_detection_data_dict"
   ]
  },
  {
   "cell_type": "markdown",
   "metadata": {},
   "source": [
    "### Simulate inbound sky images\n",
    "\n",
    "- Run SSD detection\n",
    "- Create sequence of sky images to run forecast/predictions of future frame detection data and visualize them\n",
    "- Run 24/7 or until stopped"
   ]
  },
  {
   "cell_type": "code",
   "execution_count": null,
   "metadata": {},
   "outputs": [],
   "source": [
    "while(1):\n",
    "    get_the_next_sky_image_filename = queue_of_inbound_sky_images.get() # FIFO mode\n",
    "    print(\"\\n:: Current sky image name: \", get_the_next_sky_image_filename)\n",
    "    \n",
    "    current_sky_image_filepath = os.path.join(sky_camera_images_dir, get_the_next_sky_image_filename)\n",
    "    \n",
    "    # Run SSD Detection\n",
    "    results_detection_data = detection_data(current_sky_image_filepath)\n",
    "    ssd_detection_data = post_process_detection_data(results_detection_data)\n",
    "    \n",
    "    # Append it into the dict of ssd detection data\n",
    "    ssd_detection_data_dict[list(ssd_detection_data.keys())[0]] = list(ssd_detection_data.values())[0]\n",
    "    candidate_key = list(ssd_detection_data.keys())[0]\n",
    "    \n",
    "    #(0)\n",
    "    if queue_of_images_sequence_for_forecast_task.qsize() < seq_num:\n",
    "        queue_of_images_sequence_for_forecast_task.put(candidate_key)\n",
    "    \n",
    "    #(1) If the forecast queue reaches seqNum, run the forecast model for the next 5, 10, 20, 40, 60, 80, 100 frames\n",
    "    # And plot the frequency of predicted number of occlusion occurences in those predicted n-frames.\n",
    "    if queue_of_images_sequence_for_forecast_task.qsize() == seq_num:\n",
    "        print(\"\\n\\nTime to begin the forecast ...\")\n",
    "        \n",
    "        # Pop the oldest entry from the queue and use it to extract seq_num detection data from the \n",
    "        # ssd_detection_data_dict\n",
    "        popped_sky_image_filename = queue_of_images_sequence_for_forecast_task.get()\n",
    "        print(\"Popped: \", popped_sky_image_filename)\n",
    "        \n",
    "        # Create the sequence of detection data to be used for the prediction/forecast task\n",
    "        extracted_seq_num_detection_data = return_sequence_ssd_detection_data(popped_sky_image_filename, ssd_detection_data_dict, seq_num, max_bboxes_vec_size)\n",
    "        print(\"\\nExtracted: \", extracted_seq_num_detection_data)\n",
    "        \n",
    "        # Next 1st Frame Forecast\n",
    "        next_frame_forecast = forecast_inferrence(extracted_seq_num_detection_data, forecasting_model_name)\n",
    "        # Later compare it with the candidtate_key (visually)\n",
    "        print(\":: Next 1st Frame Forecast: \", next_frame_forecast, \"\\n\")\n",
    "        \n",
    "        print(\"\\n:: Next 1st Frame Forecast -- Summary Report - TBD.\\n\")\n",
    "        # Next ...\n",
    "    \n",
    "        #ToDO\n",
    "        ### Generic Forecast model for n-horizon window: Next [5, 10, 25, 50, 75, 100] Frames Forecast\n",
    "        \n",
    "        #(2) Put new entry in the forecast queue (0-1)\n",
    "        queue_of_images_sequence_for_forecast_task.put(candidate_key)\n",
    "        print(\"\\n\\n\\nNewly Put: \", candidate_key)\n",
    "        \n",
    "        input(\"Enter to continue...\")"
   ]
  }
 ],
 "metadata": {
  "kernelspec": {
   "display_name": "Python 3",
   "language": "python",
   "name": "python3"
  },
  "language_info": {
   "codemirror_mode": {
    "name": "ipython",
    "version": 3
   },
   "file_extension": ".py",
   "mimetype": "text/x-python",
   "name": "python",
   "nbconvert_exporter": "python",
   "pygments_lexer": "ipython3",
   "version": "3.7.5"
  }
 },
 "nbformat": 4,
 "nbformat_minor": 2
}
